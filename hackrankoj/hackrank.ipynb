{
 "cells": [
  {
   "cell_type": "code",
   "execution_count": null,
   "metadata": {
    "collapsed": false
   },
   "outputs": [],
   "source": [
    "n = int(raw_input())\n",
    "p_m = {}\n",
    "for i in range(n):\n",
    "    info = raw_input().split()\n",
    "    p_m[info.pop(0)]=info\n",
    "test = raw_input()\n",
    "total = sum([float(mark) for mark in p_m[test]])\n",
    "print '%.2f'%(total/3)"
   ]
  },
  {
   "cell_type": "code",
   "execution_count": null,
   "metadata": {
    "collapsed": true
   },
   "outputs": [],
   "source": [
    "students = []\n",
    "n = int(raw_input())\n",
    "for i in range(n):\n",
    "    student=[]\n",
    "    name = raw_input()\n",
    "    grade = float(raw_input())\n",
    "    student.append(name).append(grade)\n",
    "    students.append(student)\n",
    "students.sort()\n",
    "wanted = []\n",
    "lower = students.pop(0)\n",
    "while 1:\n",
    "    next_s = students.pop(0)\n",
    "    if lower[1] == next_s[1]:\n",
    "        pass\n",
    "    else:\n",
    "        break\n",
    "wanted.append(next_s)\n",
    "while 1:\n",
    "    want_in = students.pop(0)\n",
    "    if next_s[1] == want_in[1]:\n",
    "        wanted.append(want_in)\n",
    "    else:\n",
    "        break\n",
    "\n",
    "for item in wanted:\n",
    "    print wanted[0]"
   ]
  },
  {
   "cell_type": "code",
   "execution_count": 18,
   "metadata": {
    "collapsed": false
   },
   "outputs": [
    {
     "name": "stdout",
     "output_type": "stream",
     "text": [
      "[[-50.0, 'Mawer'], [-50.0, 'Rachel'], [-50.0, 'Sheen'], [51.0, 'Shaheen']]\n",
      "3 4\n",
      "['Shaheen']\n",
      "Shaheen\n"
     ]
    }
   ],
   "source": [
    "students = []\n",
    "f = open('test_nestedlist.txt')\n",
    "n = int(f.readline())\n",
    "for i in range(n):\n",
    "    student=[]\n",
    "    name = f.readline().strip('\\n')\n",
    "    grade = float(f.readline())\n",
    "    student.append(grade)\n",
    "    student.append(name)\n",
    "    students.append(student)\n",
    "f.close()\n",
    "students.sort()\n",
    "print students\n",
    "wanted = []\n",
    "index = 0\n",
    "while students[index][0] == students[0][0] :\n",
    "    \n",
    "    index+=1\n",
    "sentry = index\n",
    "print index,n\n",
    "while index < n and students[index][0] == students[sentry][0]:\n",
    "    wanted.append(students[index][1])\n",
    "    index+=1\n",
    "print wanted\n",
    "#lower = students.pop(0)\n",
    "\"\"\"\n",
    "while 1:\n",
    "    next_s = students.pop(0)\n",
    "    if lower[1] == next_s[1]:\n",
    "        pass\n",
    "    else:\n",
    "        break\n",
    "wanted.append(next_s)\n",
    "while 1:\n",
    "    try:\n",
    "        want_in = students.pop(0)\n",
    "        if next_s[1] == want_in[1]:\n",
    "            wanted.append(want_in)\n",
    "        else:\n",
    "            break\n",
    "    except IndexError:\n",
    "        break\n",
    "\"\"\"\n",
    "wanted.sort()\n",
    "for item in wanted:\n",
    "    print item\n"
   ]
  },
  {
   "cell_type": "code",
   "execution_count": null,
   "metadata": {
    "collapsed": true
   },
   "outputs": [],
   "source": [
    "5\n",
    "Harsh\n",
    "20\n",
    "Beria\n",
    "20\n",
    "Varun\n",
    "19\n",
    "Kakunami\n",
    "19\n",
    "Vikas\n",
    "21"
   ]
  },
  {
   "cell_type": "code",
   "execution_count": 19,
   "metadata": {
    "collapsed": false
   },
   "outputs": [
    {
     "name": "stdout",
     "output_type": "stream",
     "text": [
      "4\n",
      "123\n",
      "adf\n"
     ]
    },
    {
     "ename": "ValueError",
     "evalue": "could not convert string to float: adf",
     "output_type": "error",
     "traceback": [
      "\u001b[0;31m---------------------------------------------------------------------------\u001b[0m",
      "\u001b[0;31mValueError\u001b[0m                                Traceback (most recent call last)",
      "\u001b[0;32m<ipython-input-19-8beb92a9adb4>\u001b[0m in \u001b[0;36m<module>\u001b[0;34m()\u001b[0m\n\u001b[0;32m----> 1\u001b[0;31m \u001b[0ma\u001b[0m \u001b[0;34m=\u001b[0m \u001b[0;34m[\u001b[0m\u001b[0;34m[\u001b[0m\u001b[0mraw_input\u001b[0m\u001b[0;34m(\u001b[0m\u001b[0;34m)\u001b[0m\u001b[0;34m,\u001b[0m \u001b[0mfloat\u001b[0m\u001b[0;34m(\u001b[0m\u001b[0mraw_input\u001b[0m\u001b[0;34m(\u001b[0m\u001b[0;34m)\u001b[0m\u001b[0;34m)\u001b[0m\u001b[0;34m]\u001b[0m \u001b[0;32mfor\u001b[0m \u001b[0mi\u001b[0m \u001b[0;32min\u001b[0m \u001b[0mxrange\u001b[0m\u001b[0;34m(\u001b[0m\u001b[0mint\u001b[0m\u001b[0;34m(\u001b[0m\u001b[0mraw_input\u001b[0m\u001b[0;34m(\u001b[0m\u001b[0;34m)\u001b[0m\u001b[0;34m)\u001b[0m\u001b[0;34m)\u001b[0m\u001b[0;34m]\u001b[0m\u001b[0;34m\u001b[0m\u001b[0m\n\u001b[0m",
      "\u001b[0;31mValueError\u001b[0m: could not convert string to float: adf"
     ]
    }
   ],
   "source": [
    "a = [[raw_input(), float(raw_input())] for i in xrange(int(raw_input()))]"
   ]
  },
  {
   "cell_type": "code",
   "execution_count": null,
   "metadata": {
    "collapsed": true
   },
   "outputs": [],
   "source": []
  }
 ],
 "metadata": {
  "anaconda-cloud": {},
  "kernelspec": {
   "display_name": "Python [gl-env]",
   "language": "python",
   "name": "Python [gl-env]"
  },
  "language_info": {
   "codemirror_mode": {
    "name": "ipython",
    "version": 2
   },
   "file_extension": ".py",
   "mimetype": "text/x-python",
   "name": "python",
   "nbconvert_exporter": "python",
   "pygments_lexer": "ipython2",
   "version": "2.7.12"
  }
 },
 "nbformat": 4,
 "nbformat_minor": 0
}
